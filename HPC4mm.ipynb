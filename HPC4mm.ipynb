{
  "nbformat": 4,
  "nbformat_minor": 0,
  "metadata": {
    "colab": {
      "provenance": []
    },
    "kernelspec": {
      "name": "python3",
      "display_name": "Python 3"
    },
    "language_info": {
      "name": "python"
    }
  },
  "cells": [
    {
      "cell_type": "code",
      "execution_count": 1,
      "metadata": {
        "colab": {
          "base_uri": "https://localhost:8080/"
        },
        "id": "GQmWnlU06yqF",
        "outputId": "630c4c16-2f50-47a6-9a8e-aa8b7f6ea2ad"
      },
      "outputs": [
        {
          "output_type": "stream",
          "name": "stdout",
          "text": [
            "nvcc: NVIDIA (R) Cuda compiler driver\n",
            "Copyright (c) 2005-2022 NVIDIA Corporation\n",
            "Built on Wed_Sep_21_10:33:58_PDT_2022\n",
            "Cuda compilation tools, release 11.8, V11.8.89\n",
            "Build cuda_11.8.r11.8/compiler.31833905_0\n"
          ]
        }
      ],
      "source": [
        "!nvcc --version"
      ]
    },
    {
      "cell_type": "code",
      "source": [
        "!pip install git+https://github.com/andreinechaev/nvcc4jupyter.git"
      ],
      "metadata": {
        "colab": {
          "base_uri": "https://localhost:8080/"
        },
        "id": "vlwNU0o_629w",
        "outputId": "fbf41172-dd2f-466a-c7c8-733569f4d2af"
      },
      "execution_count": 2,
      "outputs": [
        {
          "output_type": "stream",
          "name": "stdout",
          "text": [
            "Looking in indexes: https://pypi.org/simple, https://us-python.pkg.dev/colab-wheels/public/simple/\n",
            "Collecting git+https://github.com/andreinechaev/nvcc4jupyter.git\n",
            "  Cloning https://github.com/andreinechaev/nvcc4jupyter.git to /tmp/pip-req-build-qfqrtd0a\n",
            "  Running command git clone --filter=blob:none --quiet https://github.com/andreinechaev/nvcc4jupyter.git /tmp/pip-req-build-qfqrtd0a\n",
            "  Resolved https://github.com/andreinechaev/nvcc4jupyter.git to commit aac710a35f52bb78ab34d2e52517237941399eff\n",
            "  Preparing metadata (setup.py) ... \u001b[?25l\u001b[?25hdone\n",
            "Building wheels for collected packages: NVCCPlugin\n",
            "  Building wheel for NVCCPlugin (setup.py) ... \u001b[?25l\u001b[?25hdone\n",
            "  Created wheel for NVCCPlugin: filename=NVCCPlugin-0.0.2-py3-none-any.whl size=4287 sha256=b0471a78210e578dbc9541dca6d5363259f7b2837ac026c59e0bfde379e1500e\n",
            "  Stored in directory: /tmp/pip-ephem-wheel-cache-jn7r_46g/wheels/a8/b9/18/23f8ef71ceb0f63297dd1903aedd067e6243a68ea756d6feea\n",
            "Successfully built NVCCPlugin\n",
            "Installing collected packages: NVCCPlugin\n",
            "Successfully installed NVCCPlugin-0.0.2\n"
          ]
        }
      ]
    },
    {
      "cell_type": "code",
      "source": [
        "%load_ext Cython"
      ],
      "metadata": {
        "id": "_VdeOKcR65Eo"
      },
      "execution_count": 3,
      "outputs": []
    },
    {
      "cell_type": "code",
      "source": [
        "!apt update -qq;\n",
        "!wget https://developer.nvidia.com/compute/cuda/8.0/Prod2/local_installers/cuda-repo-ubuntu1604-8-0-local-ga2_8.0.61-1_amd64-deb;\n",
        "!dpkg -i cuda-repo-ubuntu1604-8-0-local-ga2_8.0.61-1_amd64-deb;\n",
        "!apt-key add /var/cuda-repo-8-0-local-ga2/7fa2af80.pub;\n",
        "!apt-get update -qq;\n",
        "!apt-get install cuda gcc-5 g++-5 -y -qq;\n",
        "!ln -s /usr/bin/gcc-5 /usr/local/cuda/bin/gcc;\n",
        "!ln -s /usr/bin/g++-5 /usr/local/cuda/bin/g++;\n",
        "!apt install cuda-8.0;\n",
        "     "
      ],
      "metadata": {
        "colab": {
          "base_uri": "https://localhost:8080/"
        },
        "id": "feoypVad698g",
        "outputId": "1ac4d6a9-c7bf-446e-dbab-d9e6ccd46599"
      },
      "execution_count": 4,
      "outputs": [
        {
          "output_type": "stream",
          "name": "stdout",
          "text": [
            "34 packages can be upgraded. Run 'apt list --upgradable' to see them.\n",
            "--2023-05-26 21:16:56--  https://developer.nvidia.com/compute/cuda/8.0/Prod2/local_installers/cuda-repo-ubuntu1604-8-0-local-ga2_8.0.61-1_amd64-deb\n",
            "Resolving developer.nvidia.com (developer.nvidia.com)... 152.195.19.142\n",
            "Connecting to developer.nvidia.com (developer.nvidia.com)|152.195.19.142|:443... connected.\n",
            "HTTP request sent, awaiting response... 301 Moved Permanently\n",
            "Location: https://developer.nvidia.com/downloads/compute/cuda/8.0/Prod2/local_installers/cuda-repo-ubuntu1604-8-0-local-ga2_8.0.61-1_amd64-deb [following]\n",
            "--2023-05-26 21:16:56--  https://developer.nvidia.com/downloads/compute/cuda/8.0/Prod2/local_installers/cuda-repo-ubuntu1604-8-0-local-ga2_8.0.61-1_amd64-deb\n",
            "Reusing existing connection to developer.nvidia.com:443.\n",
            "HTTP request sent, awaiting response... 302 Found\n",
            "Location: https://developer.download.nvidia.com/compute/cuda/8.0/secure/Prod2/local_installers/cuda-repo-ubuntu1604-8-0-local-ga2_8.0.61-1_amd64.deb?wcriq8QnYdb_27z8gsk7f2NMpt8bDAX7EICXZ9CtZiiBb6UgRpyRcyUdLKJWCIKSg_2xDujQYwKAbX0T3q52rABzlP6n2nAOxJde_w6Y4xUHF_RLKLOF5C00JJF1-DOrnCo65dKpdgwNy86yW6SIR6JetCZNr475F30jnndPYNnDJYAJVHkaaTjpCW69raTHUcgVBMF-jyktLNqJYAj1smPlVw== [following]\n",
            "--2023-05-26 21:16:56--  https://developer.download.nvidia.com/compute/cuda/8.0/secure/Prod2/local_installers/cuda-repo-ubuntu1604-8-0-local-ga2_8.0.61-1_amd64.deb?wcriq8QnYdb_27z8gsk7f2NMpt8bDAX7EICXZ9CtZiiBb6UgRpyRcyUdLKJWCIKSg_2xDujQYwKAbX0T3q52rABzlP6n2nAOxJde_w6Y4xUHF_RLKLOF5C00JJF1-DOrnCo65dKpdgwNy86yW6SIR6JetCZNr475F30jnndPYNnDJYAJVHkaaTjpCW69raTHUcgVBMF-jyktLNqJYAj1smPlVw==\n",
            "Resolving developer.download.nvidia.com (developer.download.nvidia.com)... 152.195.19.142\n",
            "Connecting to developer.download.nvidia.com (developer.download.nvidia.com)|152.195.19.142|:443... connected.\n",
            "HTTP request sent, awaiting response... 200 OK\n",
            "Length: 1913589814 (1.8G) [application/x-deb]\n",
            "Saving to: ‘cuda-repo-ubuntu1604-8-0-local-ga2_8.0.61-1_amd64-deb’\n",
            "\n",
            "cuda-repo-ubuntu160 100%[===================>]   1.78G   256MB/s    in 7.8s    \n",
            "\n",
            "2023-05-26 21:17:04 (234 MB/s) - ‘cuda-repo-ubuntu1604-8-0-local-ga2_8.0.61-1_amd64-deb’ saved [1913589814/1913589814]\n",
            "\n",
            "Selecting previously unselected package cuda-repo-ubuntu1604-8-0-local-ga2.\n",
            "(Reading database ... 122545 files and directories currently installed.)\n",
            "Preparing to unpack cuda-repo-ubuntu1604-8-0-local-ga2_8.0.61-1_amd64-deb ...\n",
            "Unpacking cuda-repo-ubuntu1604-8-0-local-ga2 (8.0.61-1) ...\n",
            "Setting up cuda-repo-ubuntu1604-8-0-local-ga2 (8.0.61-1) ...\n",
            "Warning: The postinst maintainerscript of the package cuda-repo-ubuntu1604-8-0-local-ga2\n",
            "Warning: seems to use apt-key (provided by apt) without depending on gnupg or gnupg2.\n",
            "Warning: This will BREAK in the future and should be fixed by the package maintainer(s).\n",
            "Note: Check first if apt-key functionality is needed at all - it probably isn't!\n",
            "Warning: apt-key should not be used in scripts (called from postinst maintainerscript of the package cuda-repo-ubuntu1604-8-0-local-ga2)\n",
            "OK\n",
            "OK\n",
            "E: Package 'gcc-5' has no installation candidate\n",
            "E: Package 'g++-5' has no installation candidate\n",
            "Reading package lists... Done\n",
            "Building dependency tree       \n",
            "Reading state information... Done\n",
            "\u001b[1;31mE: \u001b[0mUnable to locate package cuda-8.0\u001b[0m\n",
            "\u001b[1;31mE: \u001b[0mCouldn't find any package by glob 'cuda-8.0'\u001b[0m\n"
          ]
        }
      ]
    },
    {
      "cell_type": "code",
      "source": [
        "%load_ext nvcc_plugin"
      ],
      "metadata": {
        "colab": {
          "base_uri": "https://localhost:8080/"
        },
        "id": "QJ7s0hup7AqD",
        "outputId": "66f1eed2-7371-44f3-9c5e-5086373099ed"
      },
      "execution_count": 5,
      "outputs": [
        {
          "output_type": "stream",
          "name": "stdout",
          "text": [
            "created output directory at /content/src\n",
            "Out bin /content/result.out\n"
          ]
        }
      ]
    },
    {
      "cell_type": "code",
      "source": [
        "%%cu\n",
        "#include <stdio.h>\n",
        "\n",
        "#define N 4 // Size of the matrices\n",
        "\n",
        "// CUDA kernel to perform matrix multiplication\n",
        "__global__\n",
        "void matrixMul(int *a, int *b, int *c, int n)\n",
        "{\n",
        "    int row = blockIdx.y * blockDim.y + threadIdx.y;\n",
        "    int col = blockIdx.x * blockDim.x + threadIdx.x;\n",
        "    \n",
        "    if (row < n && col < n)\n",
        "    {\n",
        "        int sum = 0;\n",
        "        for (int i = 0; i < n; ++i)\n",
        "        {\n",
        "            sum += a[row * n + i] * b[i * n + col];\n",
        "        }\n",
        "        c[row * n + col] = sum;\n",
        "    }\n",
        "}\n",
        "\n",
        "// Function to display a matrix\n",
        "void displayMatrix(int *matrix, int n)\n",
        "{\n",
        "    for (int i = 0; i < n; ++i)\n",
        "    {\n",
        "        for (int j = 0; j < n; ++j)\n",
        "        {\n",
        "            printf(\"%d \", matrix[i * n + j]);\n",
        "        }\n",
        "        printf(\"\\n\");\n",
        "    }\n",
        "}\n",
        "\n",
        "int main()\n",
        "{\n",
        "    int *a, *b, *c; // Host matrices\n",
        "    int *d_a, *d_b, *d_c; // Device matrices\n",
        "\n",
        "    int size = N * N * sizeof(int);\n",
        "\n",
        "    // Allocate memory for host matrices\n",
        "    a = (int*)malloc(size);\n",
        "    b = (int*)malloc(size);\n",
        "    c = (int*)malloc(size);\n",
        "\n",
        "    // Initialize host matrices\n",
        "    for (int i = 0; i < N; ++i)\n",
        "    {\n",
        "        for (int j = 0; j < N; ++j)\n",
        "        {\n",
        "            a[i * N + j] = i + j;\n",
        "            b[i * N + j] = i - j;\n",
        "        }\n",
        "    }\n",
        "\n",
        "    // Allocate memory for device matrices\n",
        "    cudaMalloc(&d_a, size);\n",
        "    cudaMalloc(&d_b, size);\n",
        "    cudaMalloc(&d_c, size);\n",
        "\n",
        "    // Copy host matrices to device\n",
        "    cudaMemcpy(d_a, a, size, cudaMemcpyHostToDevice);\n",
        "    cudaMemcpy(d_b, b, size, cudaMemcpyHostToDevice);\n",
        "\n",
        "    // Launch kernel on GPU\n",
        "    dim3 threadsPerBlock(N, N);\n",
        "    dim3 blocksPerGrid(1, 1);\n",
        "    if (N * N > 1024)\n",
        "    {\n",
        "        threadsPerBlock.x = 32;\n",
        "        threadsPerBlock.y = 32;\n",
        "        blocksPerGrid.x = ceil((float)N / threadsPerBlock.x);\n",
        "        blocksPerGrid.y = ceil((float)N / threadsPerBlock.y);\n",
        "    }\n",
        "    matrixMul<<<blocksPerGrid, threadsPerBlock>>>(d_a, d_b, d_c, N);\n",
        "\n",
        "    // Copy result from device to host\n",
        "    cudaMemcpy(c, d_c, size, cudaMemcpyDeviceToHost);\n",
        "\n",
        "    // Print the matrices and the product\n",
        "    printf(\"Matrix A:\\n\");\n",
        "    displayMatrix(a, N);\n",
        "    printf(\"\\nMatrix B:\\n\");\n",
        "    displayMatrix(b, N);\n",
        "    printf(\"\\nProduct Matrix:\\n\");\n",
        "    displayMatrix(c, N);\n",
        "\n",
        "    // Free device memory\n",
        "    cudaFree(d_a);\n",
        "    cudaFree(d_b);\n",
        "    cudaFree(d_c);\n",
        "\n",
        "    // Free host memory\n",
        "    free(a);\n",
        "    free(b);\n",
        "    free(c);\n",
        "\n",
        "    return 0;\n",
        "}\n"
      ],
      "metadata": {
        "colab": {
          "base_uri": "https://localhost:8080/"
        },
        "id": "7QHsomO77Iop",
        "outputId": "dbc71385-0d94-4acf-c0ed-05c752c0a439"
      },
      "execution_count": 8,
      "outputs": [
        {
          "output_type": "stream",
          "name": "stdout",
          "text": [
            "Matrix A:\n",
            "0 1 2 3 \n",
            "1 2 3 4 \n",
            "2 3 4 5 \n",
            "3 4 5 6 \n",
            "\n",
            "Matrix B:\n",
            "0 -1 -2 -3 \n",
            "1 0 -1 -2 \n",
            "2 1 0 -1 \n",
            "3 2 1 0 \n",
            "\n",
            "Product Matrix:\n",
            "0 0 0 0 \n",
            "0 0 0 0 \n",
            "0 0 0 0 \n",
            "0 0 0 0 \n",
            "\n"
          ]
        }
      ]
    },
    {
      "cell_type": "code",
      "source": [
        "%%cu\n",
        "#include <stdio.h>\n",
        "\n",
        "#define N 10 // Matrix size\n",
        "\n",
        "// CUDA kernel for matrix multiplication\n",
        "__global__\n",
        "void matrixMultiply(int *a, int *b, int *c)\n",
        "{\n",
        "    int row = blockIdx.y * blockDim.y + threadIdx.y;\n",
        "    int col = blockIdx.x * blockDim.x + threadIdx.x;\n",
        "    \n",
        "    if (row < N && col < N)\n",
        "    {\n",
        "        int sum = 0;\n",
        "        \n",
        "        for (int k = 0; k < N; ++k)\n",
        "        {\n",
        "            sum += a[row * N + k] * b[k * N + col];\n",
        "        }\n",
        "        \n",
        "        c[row * N + col] = sum;\n",
        "    }\n",
        "}\n",
        "\n",
        "// Function to display a matrix\n",
        "void displayMatrix(int *matrix)\n",
        "{\n",
        "    for (int i = 0; i < N; ++i)\n",
        "    {\n",
        "        for (int j = 0; j < N; ++j)\n",
        "        {\n",
        "            printf(\"%d\\t\", matrix[i * N + j]);\n",
        "        }\n",
        "        printf(\"\\n\");\n",
        "    }\n",
        "    printf(\"\\n\");\n",
        "}\n",
        "\n",
        "int main()\n",
        "{\n",
        "    int *a, *b, *c; // Host matrices\n",
        "    int *d_a, *d_b, *d_c; // Device matrices\n",
        "\n",
        "    int size = N * N * sizeof(int);\n",
        "\n",
        "    // Allocate memory for host matrices\n",
        "    a = (int*)malloc(size);\n",
        "    b = (int*)malloc(size);\n",
        "    c = (int*)malloc(size);\n",
        "\n",
        "    // Initialize host matrices\n",
        "    for (int i = 0; i < N; ++i)\n",
        "    {\n",
        "        for (int j = 0; j < N; ++j)\n",
        "        {\n",
        "            a[i * N + j] = i + j;\n",
        "            b[i * N + j] = i - j;\n",
        "        }\n",
        "    }\n",
        "\n",
        "    // Allocate memory for device matrices\n",
        "    cudaMalloc(&d_a, size);\n",
        "    cudaMalloc(&d_b, size);\n",
        "    cudaMalloc(&d_c, size);\n",
        "\n",
        "    // Copy host matrices to device\n",
        "    cudaMemcpy(d_a, a, size, cudaMemcpyHostToDevice);\n",
        "    cudaMemcpy(d_b, b, size, cudaMemcpyHostToDevice);\n",
        "\n",
        "    // Define grid and block dimensions\n",
        "    dim3 blockDim(16, 16);\n",
        "    dim3 gridDim((N + blockDim.x - 1) / blockDim.x, (N + blockDim.y - 1) / blockDim.y);\n",
        "\n",
        "    // Launch kernel on GPU\n",
        "    matrixMultiply<<<gridDim, blockDim>>>(d_a, d_b, d_c);\n",
        "\n",
        "    // Copy result from device to host\n",
        "    cudaMemcpy(c, d_c, size, cudaMemcpyDeviceToHost);\n",
        "\n",
        "    // Display input matrices and product\n",
        "    printf(\"Matrix A:\\n\");\n",
        "    displayMatrix(a);\n",
        "\n",
        "    printf(\"Matrix B:\\n\");\n",
        "    displayMatrix(b);\n",
        "\n",
        "    printf(\"Product C = A * B:\\n\");\n",
        "    displayMatrix(c);\n",
        "\n",
        "    // Free device memory\n",
        "    cudaFree(d_a);\n",
        "    cudaFree(d_b);\n",
        "    cudaFree(d_c);\n",
        "\n",
        "    // Free host memory\n",
        "    free(a);\n",
        "    free(b);\n",
        "    free(c);\n",
        "\n",
        "    return 0;\n",
        "}\n"
      ],
      "metadata": {
        "colab": {
          "base_uri": "https://localhost:8080/"
        },
        "id": "hdoBK8Cd7qlM",
        "outputId": "a070e515-da03-48e4-b3d3-ebdec960ad7f"
      },
      "execution_count": 9,
      "outputs": [
        {
          "output_type": "stream",
          "name": "stdout",
          "text": [
            "Matrix A:\n",
            "0\t1\t2\t3\t4\t5\t6\t7\t8\t9\t\n",
            "1\t2\t3\t4\t5\t6\t7\t8\t9\t10\t\n",
            "2\t3\t4\t5\t6\t7\t8\t9\t10\t11\t\n",
            "3\t4\t5\t6\t7\t8\t9\t10\t11\t12\t\n",
            "4\t5\t6\t7\t8\t9\t10\t11\t12\t13\t\n",
            "5\t6\t7\t8\t9\t10\t11\t12\t13\t14\t\n",
            "6\t7\t8\t9\t10\t11\t12\t13\t14\t15\t\n",
            "7\t8\t9\t10\t11\t12\t13\t14\t15\t16\t\n",
            "8\t9\t10\t11\t12\t13\t14\t15\t16\t17\t\n",
            "9\t10\t11\t12\t13\t14\t15\t16\t17\t18\t\n",
            "\n",
            "Matrix B:\n",
            "0\t-1\t-2\t-3\t-4\t-5\t-6\t-7\t-8\t-9\t\n",
            "1\t0\t-1\t-2\t-3\t-4\t-5\t-6\t-7\t-8\t\n",
            "2\t1\t0\t-1\t-2\t-3\t-4\t-5\t-6\t-7\t\n",
            "3\t2\t1\t0\t-1\t-2\t-3\t-4\t-5\t-6\t\n",
            "4\t3\t2\t1\t0\t-1\t-2\t-3\t-4\t-5\t\n",
            "5\t4\t3\t2\t1\t0\t-1\t-2\t-3\t-4\t\n",
            "6\t5\t4\t3\t2\t1\t0\t-1\t-2\t-3\t\n",
            "7\t6\t5\t4\t3\t2\t1\t0\t-1\t-2\t\n",
            "8\t7\t6\t5\t4\t3\t2\t1\t0\t-1\t\n",
            "9\t8\t7\t6\t5\t4\t3\t2\t1\t0\t\n",
            "\n",
            "Product C = A * B:\n",
            "0\t0\t0\t0\t0\t0\t0\t0\t0\t0\t\n",
            "0\t0\t0\t0\t0\t0\t0\t0\t0\t0\t\n",
            "0\t0\t0\t0\t0\t0\t0\t0\t0\t0\t\n",
            "0\t0\t0\t0\t0\t0\t0\t0\t0\t0\t\n",
            "0\t0\t0\t0\t0\t0\t0\t0\t0\t0\t\n",
            "0\t0\t0\t0\t0\t0\t0\t0\t0\t0\t\n",
            "0\t0\t0\t0\t0\t0\t0\t0\t0\t0\t\n",
            "0\t0\t0\t0\t0\t0\t0\t0\t0\t0\t\n",
            "0\t0\t0\t0\t0\t0\t0\t0\t0\t0\t\n",
            "0\t0\t0\t0\t0\t0\t0\t0\t0\t0\t\n",
            "\n",
            "\n"
          ]
        }
      ]
    }
  ]
}