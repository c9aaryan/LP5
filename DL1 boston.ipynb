{
  "nbformat": 4,
  "nbformat_minor": 0,
  "metadata": {
    "colab": {
      "provenance": []
    },
    "kernelspec": {
      "name": "python3",
      "display_name": "Python 3"
    },
    "language_info": {
      "name": "python"
    }
  },
  "cells": [
    {
      "cell_type": "markdown",
      "source": [
        "Importing the required libraries and modules and preprocessing."
      ],
      "metadata": {
        "id": "vzzdLlVrHGTm"
      }
    },
    {
      "cell_type": "code",
      "execution_count": 2,
      "metadata": {
        "id": "Bl7Wg2RXGVXM"
      },
      "outputs": [],
      "source": [
        "import pandas as pd\n",
        "import numpy as np\n",
        "import tensorflow as tf\n",
        "from sklearn.preprocessing import StandardScaler\n",
        "from sklearn.model_selection import train_test_split\n",
        "from sklearn.metrics import mean_squared_error\n",
        "\n",
        "# Fetch the dataset from the original source\n",
        "data_url = \"http://lib.stat.cmu.edu/datasets/boston\"\n",
        "raw_df = pd.read_csv(data_url, sep=\"\\s+\", skiprows=22, header=None)\n",
        "data = np.hstack([raw_df.values[::2, :], raw_df.values[1::2, :2]])\n",
        "target = raw_df.values[1::2, 2]\n",
        "\n",
        "# Split the data into features and target\n",
        "X = data[:, :-1]\n",
        "y = target\n",
        "\n",
        "# Perform feature scaling\n",
        "scaler = StandardScaler()\n",
        "X = scaler.fit_transform(X)\n",
        "\n",
        "# Split the data into training and testing sets\n",
        "X_train, X_test, y_train, y_test = train_test_split(X, y, test_size=0.2, random_state=42)\n"
      ]
    },
    {
      "cell_type": "markdown",
      "source": [
        "Build the linear regression model using a deep neural network"
      ],
      "metadata": {
        "id": "eL_ckl_9HT0R"
      }
    },
    {
      "cell_type": "code",
      "source": [
        "# Build the model\n",
        "model = tf.keras.models.Sequential([\n",
        "    tf.keras.layers.Dense(1, input_shape=(X_train.shape[1],))\n",
        "])\n",
        "\n",
        "# Compile the model\n",
        "model.compile(optimizer='adam', loss='mse')\n",
        "\n",
        "# Train the model\n",
        "history = model.fit(X_train, y_train, epochs=100, batch_size=32, verbose=1)\n"
      ],
      "metadata": {
        "colab": {
          "base_uri": "https://localhost:8080/"
        },
        "id": "Bu_v40tEGxxw",
        "outputId": "f6cc1d16-d5b1-482f-ace6-82ec92b760b5"
      },
      "execution_count": 3,
      "outputs": [
        {
          "output_type": "stream",
          "name": "stdout",
          "text": [
            "Epoch 1/100\n",
            "13/13 [==============================] - 1s 3ms/step - loss: 609.9540\n",
            "Epoch 2/100\n",
            "13/13 [==============================] - 0s 3ms/step - loss: 608.5015\n",
            "Epoch 3/100\n",
            "13/13 [==============================] - 0s 3ms/step - loss: 606.8912\n",
            "Epoch 4/100\n",
            "13/13 [==============================] - 0s 4ms/step - loss: 605.3966\n",
            "Epoch 5/100\n",
            "13/13 [==============================] - 0s 4ms/step - loss: 603.9641\n",
            "Epoch 6/100\n",
            "13/13 [==============================] - 0s 4ms/step - loss: 602.5365\n",
            "Epoch 7/100\n",
            "13/13 [==============================] - 0s 3ms/step - loss: 600.9296\n",
            "Epoch 8/100\n",
            "13/13 [==============================] - 0s 2ms/step - loss: 599.5256\n",
            "Epoch 9/100\n",
            "13/13 [==============================] - 0s 3ms/step - loss: 598.1292\n",
            "Epoch 10/100\n",
            "13/13 [==============================] - 0s 2ms/step - loss: 596.7550\n",
            "Epoch 11/100\n",
            "13/13 [==============================] - 0s 3ms/step - loss: 595.2803\n",
            "Epoch 12/100\n",
            "13/13 [==============================] - 0s 3ms/step - loss: 593.9509\n",
            "Epoch 13/100\n",
            "13/13 [==============================] - 0s 2ms/step - loss: 592.5657\n",
            "Epoch 14/100\n",
            "13/13 [==============================] - 0s 2ms/step - loss: 591.2624\n",
            "Epoch 15/100\n",
            "13/13 [==============================] - 0s 2ms/step - loss: 589.9318\n",
            "Epoch 16/100\n",
            "13/13 [==============================] - 0s 2ms/step - loss: 588.6169\n",
            "Epoch 17/100\n",
            "13/13 [==============================] - 0s 3ms/step - loss: 587.3018\n",
            "Epoch 18/100\n",
            "13/13 [==============================] - 0s 2ms/step - loss: 586.0112\n",
            "Epoch 19/100\n",
            "13/13 [==============================] - 0s 3ms/step - loss: 584.7489\n",
            "Epoch 20/100\n",
            "13/13 [==============================] - 0s 6ms/step - loss: 583.4225\n",
            "Epoch 21/100\n",
            "13/13 [==============================] - 0s 4ms/step - loss: 582.1801\n",
            "Epoch 22/100\n",
            "13/13 [==============================] - 0s 3ms/step - loss: 580.9593\n",
            "Epoch 23/100\n",
            "13/13 [==============================] - 0s 2ms/step - loss: 579.7529\n",
            "Epoch 24/100\n",
            "13/13 [==============================] - 0s 2ms/step - loss: 578.4948\n",
            "Epoch 25/100\n",
            "13/13 [==============================] - 0s 3ms/step - loss: 577.2873\n",
            "Epoch 26/100\n",
            "13/13 [==============================] - 0s 3ms/step - loss: 576.0696\n",
            "Epoch 27/100\n",
            "13/13 [==============================] - 0s 3ms/step - loss: 574.9315\n",
            "Epoch 28/100\n",
            "13/13 [==============================] - 0s 3ms/step - loss: 573.7286\n",
            "Epoch 29/100\n",
            "13/13 [==============================] - 0s 6ms/step - loss: 572.5679\n",
            "Epoch 30/100\n",
            "13/13 [==============================] - 0s 4ms/step - loss: 571.3740\n",
            "Epoch 31/100\n",
            "13/13 [==============================] - 0s 3ms/step - loss: 570.3539\n",
            "Epoch 32/100\n",
            "13/13 [==============================] - 0s 2ms/step - loss: 569.1180\n",
            "Epoch 33/100\n",
            "13/13 [==============================] - 0s 2ms/step - loss: 568.0891\n",
            "Epoch 34/100\n",
            "13/13 [==============================] - 0s 2ms/step - loss: 566.9052\n",
            "Epoch 35/100\n",
            "13/13 [==============================] - 0s 2ms/step - loss: 565.8149\n",
            "Epoch 36/100\n",
            "13/13 [==============================] - 0s 8ms/step - loss: 564.7426\n",
            "Epoch 37/100\n",
            "13/13 [==============================] - 0s 2ms/step - loss: 563.6266\n",
            "Epoch 38/100\n",
            "13/13 [==============================] - 0s 3ms/step - loss: 562.6183\n",
            "Epoch 39/100\n",
            "13/13 [==============================] - 0s 2ms/step - loss: 561.5648\n",
            "Epoch 40/100\n",
            "13/13 [==============================] - 0s 2ms/step - loss: 560.4918\n",
            "Epoch 41/100\n",
            "13/13 [==============================] - 0s 2ms/step - loss: 559.4774\n",
            "Epoch 42/100\n",
            "13/13 [==============================] - 0s 5ms/step - loss: 558.4576\n",
            "Epoch 43/100\n",
            "13/13 [==============================] - 0s 4ms/step - loss: 557.4499\n",
            "Epoch 44/100\n",
            "13/13 [==============================] - 0s 2ms/step - loss: 556.4366\n",
            "Epoch 45/100\n",
            "13/13 [==============================] - 0s 3ms/step - loss: 555.4257\n",
            "Epoch 46/100\n",
            "13/13 [==============================] - 0s 3ms/step - loss: 554.4717\n",
            "Epoch 47/100\n",
            "13/13 [==============================] - 0s 3ms/step - loss: 553.4727\n",
            "Epoch 48/100\n",
            "13/13 [==============================] - 0s 5ms/step - loss: 552.4938\n",
            "Epoch 49/100\n",
            "13/13 [==============================] - 0s 6ms/step - loss: 551.5916\n",
            "Epoch 50/100\n",
            "13/13 [==============================] - 0s 3ms/step - loss: 550.5970\n",
            "Epoch 51/100\n",
            "13/13 [==============================] - 0s 3ms/step - loss: 549.6691\n",
            "Epoch 52/100\n",
            "13/13 [==============================] - 0s 3ms/step - loss: 548.7156\n",
            "Epoch 53/100\n",
            "13/13 [==============================] - 0s 2ms/step - loss: 547.8257\n",
            "Epoch 54/100\n",
            "13/13 [==============================] - 0s 2ms/step - loss: 546.8721\n",
            "Epoch 55/100\n",
            "13/13 [==============================] - 0s 2ms/step - loss: 545.9106\n",
            "Epoch 56/100\n",
            "13/13 [==============================] - 0s 2ms/step - loss: 545.0092\n",
            "Epoch 57/100\n",
            "13/13 [==============================] - 0s 7ms/step - loss: 544.0763\n",
            "Epoch 58/100\n",
            "13/13 [==============================] - 0s 7ms/step - loss: 543.1675\n",
            "Epoch 59/100\n",
            "13/13 [==============================] - 0s 6ms/step - loss: 542.2867\n",
            "Epoch 60/100\n",
            "13/13 [==============================] - 0s 5ms/step - loss: 541.3713\n",
            "Epoch 61/100\n",
            "13/13 [==============================] - 0s 6ms/step - loss: 540.4859\n",
            "Epoch 62/100\n",
            "13/13 [==============================] - 0s 3ms/step - loss: 539.6169\n",
            "Epoch 63/100\n",
            "13/13 [==============================] - 0s 4ms/step - loss: 538.6854\n",
            "Epoch 64/100\n",
            "13/13 [==============================] - 0s 4ms/step - loss: 537.8563\n",
            "Epoch 65/100\n",
            "13/13 [==============================] - 0s 3ms/step - loss: 536.9641\n",
            "Epoch 66/100\n",
            "13/13 [==============================] - 0s 4ms/step - loss: 536.1073\n",
            "Epoch 67/100\n",
            "13/13 [==============================] - 0s 2ms/step - loss: 535.2764\n",
            "Epoch 68/100\n",
            "13/13 [==============================] - 0s 2ms/step - loss: 534.3790\n",
            "Epoch 69/100\n",
            "13/13 [==============================] - 0s 3ms/step - loss: 533.5693\n",
            "Epoch 70/100\n",
            "13/13 [==============================] - 0s 2ms/step - loss: 532.7236\n",
            "Epoch 71/100\n",
            "13/13 [==============================] - 0s 2ms/step - loss: 531.8984\n",
            "Epoch 72/100\n",
            "13/13 [==============================] - 0s 2ms/step - loss: 531.0777\n",
            "Epoch 73/100\n",
            "13/13 [==============================] - 0s 2ms/step - loss: 530.2709\n",
            "Epoch 74/100\n",
            "13/13 [==============================] - 0s 2ms/step - loss: 529.4284\n",
            "Epoch 75/100\n",
            "13/13 [==============================] - 0s 3ms/step - loss: 528.6458\n",
            "Epoch 76/100\n",
            "13/13 [==============================] - 0s 3ms/step - loss: 527.8047\n",
            "Epoch 77/100\n",
            "13/13 [==============================] - 0s 2ms/step - loss: 526.9987\n",
            "Epoch 78/100\n",
            "13/13 [==============================] - 0s 2ms/step - loss: 526.1495\n",
            "Epoch 79/100\n",
            "13/13 [==============================] - 0s 2ms/step - loss: 525.3714\n",
            "Epoch 80/100\n",
            "13/13 [==============================] - 0s 4ms/step - loss: 524.6304\n",
            "Epoch 81/100\n",
            "13/13 [==============================] - 0s 5ms/step - loss: 523.7769\n",
            "Epoch 82/100\n",
            "13/13 [==============================] - 0s 3ms/step - loss: 522.9635\n",
            "Epoch 83/100\n",
            "13/13 [==============================] - 0s 2ms/step - loss: 522.1927\n",
            "Epoch 84/100\n",
            "13/13 [==============================] - 0s 2ms/step - loss: 521.4150\n",
            "Epoch 85/100\n",
            "13/13 [==============================] - 0s 2ms/step - loss: 520.6106\n",
            "Epoch 86/100\n",
            "13/13 [==============================] - 0s 3ms/step - loss: 519.8343\n",
            "Epoch 87/100\n",
            "13/13 [==============================] - 0s 3ms/step - loss: 519.0522\n",
            "Epoch 88/100\n",
            "13/13 [==============================] - 0s 4ms/step - loss: 518.2911\n",
            "Epoch 89/100\n",
            "13/13 [==============================] - 0s 2ms/step - loss: 517.5323\n",
            "Epoch 90/100\n",
            "13/13 [==============================] - 0s 3ms/step - loss: 516.7640\n",
            "Epoch 91/100\n",
            "13/13 [==============================] - 0s 3ms/step - loss: 516.0132\n",
            "Epoch 92/100\n",
            "13/13 [==============================] - 0s 7ms/step - loss: 515.2858\n",
            "Epoch 93/100\n",
            "13/13 [==============================] - 0s 5ms/step - loss: 514.5467\n",
            "Epoch 94/100\n",
            "13/13 [==============================] - 0s 3ms/step - loss: 513.7759\n",
            "Epoch 95/100\n",
            "13/13 [==============================] - 0s 2ms/step - loss: 513.0507\n",
            "Epoch 96/100\n",
            "13/13 [==============================] - 0s 3ms/step - loss: 512.2861\n",
            "Epoch 97/100\n",
            "13/13 [==============================] - 0s 2ms/step - loss: 511.5698\n",
            "Epoch 98/100\n",
            "13/13 [==============================] - 0s 2ms/step - loss: 510.8261\n",
            "Epoch 99/100\n",
            "13/13 [==============================] - 0s 2ms/step - loss: 510.0962\n",
            "Epoch 100/100\n",
            "13/13 [==============================] - 0s 2ms/step - loss: 509.3932\n"
          ]
        }
      ]
    },
    {
      "cell_type": "markdown",
      "source": [
        "Evaluate the model and make predictions"
      ],
      "metadata": {
        "id": "1nB6Vee1Hcoj"
      }
    },
    {
      "cell_type": "code",
      "source": [
        "# Evaluate the model\n",
        "train_loss = model.evaluate(X_train, y_train, verbose=0)\n",
        "test_loss = model.evaluate(X_test, y_test, verbose=0)\n",
        "print(f\"Train Loss: {train_loss:.4f}\")\n",
        "print(f\"Test Loss: {test_loss:.4f}\")\n",
        "\n",
        "# Make predictions\n",
        "y_pred = model.predict(X_test)\n",
        "\n",
        "# Calculate the mean squared error\n",
        "mse = mean_squared_error(y_test, y_pred)\n",
        "print(f\"Mean Squared Error: {mse:.4f}\")\n"
      ],
      "metadata": {
        "colab": {
          "base_uri": "https://localhost:8080/"
        },
        "id": "YGqEZ7szG1-X",
        "outputId": "989a4f83-d2d0-4e92-f524-6ccb71dbed12"
      },
      "execution_count": 4,
      "outputs": [
        {
          "output_type": "stream",
          "name": "stdout",
          "text": [
            "Train Loss: 508.9403\n",
            "Test Loss: 474.0331\n",
            "4/4 [==============================] - 0s 4ms/step\n",
            "Mean Squared Error: 474.0331\n"
          ]
        }
      ]
    },
    {
      "cell_type": "code",
      "source": [
        "# Making Predictions for testing data\n",
        "np.set_printoptions(suppress=True)\n",
        "result = model.predict(X_test)"
      ],
      "metadata": {
        "colab": {
          "base_uri": "https://localhost:8080/"
        },
        "id": "Vb1_o7VlHBf_",
        "outputId": "79165703-b14b-472b-8dd2-6db2faa0dbd3"
      },
      "execution_count": 5,
      "outputs": [
        {
          "output_type": "stream",
          "name": "stdout",
          "text": [
            "4/4 [==============================] - 0s 3ms/step\n"
          ]
        }
      ]
    },
    {
      "cell_type": "code",
      "source": [
        "df=pd.DataFrame(result, columns=['output'])\n",
        "print(df)"
      ],
      "metadata": {
        "colab": {
          "base_uri": "https://localhost:8080/"
        },
        "id": "pLQy3VstHERf",
        "outputId": "62738386-1abd-41a1-bed5-7600e045a8ea"
      },
      "execution_count": 6,
      "outputs": [
        {
          "output_type": "stream",
          "name": "stdout",
          "text": [
            "       output\n",
            "0    3.595826\n",
            "1    6.803479\n",
            "2   -1.533833\n",
            "3    3.036610\n",
            "4   -3.667470\n",
            "..        ...\n",
            "97  -9.028548\n",
            "98  -6.111511\n",
            "99  -5.042932\n",
            "100  3.590979\n",
            "101  2.558288\n",
            "\n",
            "[102 rows x 1 columns]\n"
          ]
        }
      ]
    }
  ]
}