{
  "cells": [
    {
      "cell_type": "markdown",
      "metadata": {
        "id": "JOxvUsWmhFz8"
      },
      "source": [
        "<h4>Name    - Aaryan Joshi<br>\n",
        "Roll No - BACO19112<br>\n",
        "Batch   - A1<br>\n",
        "Year    - BE<br>\n",
        "Subject - Deep Learning</h4>"
      ]
    },
    {
      "cell_type": "code",
      "execution_count": 1,
      "metadata": {
        "colab": {
          "base_uri": "https://localhost:8080/"
        },
        "id": "QJKArZXCpXkx",
        "outputId": "1de65f23-882a-457b-9ac1-61e28e6eadeb"
      },
      "outputs": [
        {
          "output_type": "stream",
          "name": "stdout",
          "text": [
            "Downloading data from https://storage.googleapis.com/tensorflow/tf-keras-datasets/imdb.npz\n",
            "17464789/17464789 [==============================] - 0s 0us/step\n"
          ]
        }
      ],
      "source": [
        "from keras.datasets import imdb\n",
        "# Load the data, keeping only 10,000 of the most frequently occuring words\n",
        "(train_data, train_labels), (test_data, test_labels) = imdb.load_data(num_words = 10000)"
      ]
    },
    {
      "cell_type": "code",
      "execution_count": 2,
      "metadata": {
        "colab": {
          "base_uri": "https://localhost:8080/"
        },
        "id": "Wsz-J7l0qFRs",
        "outputId": "dc8e333a-66f8-4084-ff70-92d901f28035"
      },
      "outputs": [
        {
          "output_type": "stream",
          "name": "stdout",
          "text": [
            "<class 'list'>\n"
          ]
        },
        {
          "output_type": "execute_result",
          "data": {
            "text/plain": [
              "9999"
            ]
          },
          "metadata": {},
          "execution_count": 2
        }
      ],
      "source": [
        "# Here is a list of maximum indexes in every review\n",
        "print(type([max(sequence) for sequence in train_data]))\n",
        "# Find the maximum of all max indexes\n",
        "max([max(sequence) for sequence in train_data])"
      ]
    },
    {
      "cell_type": "code",
      "execution_count": 3,
      "metadata": {
        "colab": {
          "base_uri": "https://localhost:8080/",
          "height": 157
        },
        "id": "x2doS3U4qNuk",
        "outputId": "bab4bd27-b61f-4de2-bd47-c30ecf5f89b6"
      },
      "outputs": [
        {
          "output_type": "stream",
          "name": "stdout",
          "text": [
            "Downloading data from https://storage.googleapis.com/tensorflow/tf-keras-datasets/imdb_word_index.json\n",
            "1641221/1641221 [==============================] - 0s 0us/step\n"
          ]
        },
        {
          "output_type": "execute_result",
          "data": {
            "text/plain": [
              "\"? this film was just brilliant casting location scenery story direction everyone's really suited the part they played and you could just imagine being there robert ? is an amazing actor and now the same being director ? father came from the same scottish island as myself so i loved the fact there was a real connection with this film the witty remarks throughout the film were great it was just brilliant so much that i bought the film as soon as it was released for ? and would recommend it to everyone to watch and the fly fishing was amazing really cried at the end it was so sad and you know what they say if you cry at a film it must have been good and this definitely was also ? to the two little boy's that played the ? of norman and paul they were just brilliant children are often left out of the ? list i think because the stars that play them all grown up are such a big profile for the whole film but these children are amazing and should be praised for what they have done don't you think the whole story was so lovely because it was true and was someone's life after all that was shared with us all\""
            ],
            "application/vnd.google.colaboratory.intrinsic+json": {
              "type": "string"
            }
          },
          "metadata": {},
          "execution_count": 3
        }
      ],
      "source": [
        "# step 1: load the dictionary mappings from word to integer index\n",
        "word_index = imdb.get_word_index()\n",
        "# step 2: reverse word index to map integer indexes to their respective words\n",
        "reverse_word_index = dict([(value, key) for (key, value) in word_index.items()])\n",
        "# Step 3: decode the review, mapping integer indices to words\n",
        "#\n",
        "# indices are off by 3 because 0, 1, and 2 are reserverd indices for \"padding\", \"Start of\n",
        "decoded_review = ' '.join([reverse_word_index.get(i-3, '?') for i in train_data[0]])\n",
        "decoded_review"
      ]
    },
    {
      "cell_type": "code",
      "execution_count": 4,
      "metadata": {
        "id": "3VnUAUn1qSTT"
      },
      "outputs": [],
      "source": [
        "# Vectorize input data\n",
        "import numpy as np\n",
        "def vectorize_sequences(sequences, dimension=10000):\n",
        "    results = np.zeros((len(sequences), dimension)) \n",
        "    for i,sequence in enumerate(sequences):\n",
        "      results[i,sequence] = 1 \n",
        "    return results\n",
        "# Vectorize training Data\n",
        "X_train = vectorize_sequences(train_data)\n",
        "# Vectorize testing Data\n",
        "X_test = vectorize_sequences(test_data)"
      ]
    },
    {
      "cell_type": "code",
      "execution_count": 5,
      "metadata": {
        "colab": {
          "base_uri": "https://localhost:8080/"
        },
        "id": "TD7PLsnmqrJ9",
        "outputId": "8cb77ba5-fea3-48bf-9c1e-6f6ae23e6038"
      },
      "outputs": [
        {
          "output_type": "execute_result",
          "data": {
            "text/plain": [
              "array([0., 1., 1., ..., 0., 0., 0.])"
            ]
          },
          "metadata": {},
          "execution_count": 5
        }
      ],
      "source": [
        "X_train[0]"
      ]
    },
    {
      "cell_type": "code",
      "execution_count": 6,
      "metadata": {
        "colab": {
          "base_uri": "https://localhost:8080/"
        },
        "id": "hQwY56XSqsOK",
        "outputId": "485445cc-957c-4c4d-9e1f-7cc175c7aa2e"
      },
      "outputs": [
        {
          "output_type": "execute_result",
          "data": {
            "text/plain": [
              "(25000, 10000)"
            ]
          },
          "metadata": {},
          "execution_count": 6
        }
      ],
      "source": [
        "X_train.shape"
      ]
    },
    {
      "cell_type": "code",
      "execution_count": 7,
      "metadata": {
        "id": "yymYgaejqtxY"
      },
      "outputs": [],
      "source": [
        "# Vectorize labels\n",
        "y_train = np.asarray(train_labels).astype('float32')\n",
        "y_test = np.asarray(test_labels).astype('float32')"
      ]
    },
    {
      "cell_type": "code",
      "execution_count": 8,
      "metadata": {
        "id": "K7KL4ExYqv73"
      },
      "outputs": [],
      "source": [
        "from keras import models\n",
        "from keras import layers\n",
        "model = models.Sequential()\n",
        "model.add(layers.Dense(16, activation='relu', input_shape=(10000,)))\n",
        "model.add(layers.Dense(16, activation='relu'))\n",
        "model.add(layers.Dense(1, activation='sigmoid'))"
      ]
    },
    {
      "cell_type": "code",
      "execution_count": 9,
      "metadata": {
        "id": "t9NE2HOlst1a"
      },
      "outputs": [],
      "source": [
        "from tensorflow.keras import optimizers\n",
        "from tensorflow.keras import losses\n",
        "from tensorflow.keras import metrics\n",
        "model.compile(optimizer=optimizers.RMSprop(learning_rate=0.001),\n",
        "              loss=losses.binary_crossentropy,\n",
        "              metrics=[metrics.binary_accuracy])"
      ]
    },
    {
      "cell_type": "code",
      "execution_count": 10,
      "metadata": {
        "id": "eeZg0JBcrS9Q"
      },
      "outputs": [],
      "source": [
        "# Input for Validation\n",
        "X_val = X_train[:10000]\n",
        "partial_X_train = X_train[10000:]\n",
        "# Labels for validation\n",
        "y_val = y_train[:10000]\n",
        "partial_y_train = y_train[10000:]"
      ]
    },
    {
      "cell_type": "code",
      "execution_count": 11,
      "metadata": {
        "colab": {
          "base_uri": "https://localhost:8080/"
        },
        "id": "66TUmpnxrS4j",
        "outputId": "0b93f5ac-2855-49b2-f5db-9e79104ae8d0"
      },
      "outputs": [
        {
          "output_type": "stream",
          "name": "stdout",
          "text": [
            "Epoch 1/20\n",
            "30/30 [==============================] - 4s 62ms/step - loss: 0.5405 - binary_accuracy: 0.7811 - val_loss: 0.4166 - val_binary_accuracy: 0.8653\n",
            "Epoch 2/20\n",
            "30/30 [==============================] - 1s 39ms/step - loss: 0.3432 - binary_accuracy: 0.8907 - val_loss: 0.3461 - val_binary_accuracy: 0.8631\n",
            "Epoch 3/20\n",
            "30/30 [==============================] - 1s 39ms/step - loss: 0.2555 - binary_accuracy: 0.9169 - val_loss: 0.3030 - val_binary_accuracy: 0.8801\n",
            "Epoch 4/20\n",
            "30/30 [==============================] - 1s 36ms/step - loss: 0.2091 - binary_accuracy: 0.9309 - val_loss: 0.2778 - val_binary_accuracy: 0.8895\n",
            "Epoch 5/20\n",
            "30/30 [==============================] - 1s 39ms/step - loss: 0.1748 - binary_accuracy: 0.9432 - val_loss: 0.2873 - val_binary_accuracy: 0.8855\n",
            "Epoch 6/20\n",
            "30/30 [==============================] - 1s 37ms/step - loss: 0.1515 - binary_accuracy: 0.9497 - val_loss: 0.2963 - val_binary_accuracy: 0.8823\n",
            "Epoch 7/20\n",
            "30/30 [==============================] - 1s 36ms/step - loss: 0.1284 - binary_accuracy: 0.9591 - val_loss: 0.2949 - val_binary_accuracy: 0.8841\n",
            "Epoch 8/20\n",
            "30/30 [==============================] - 2s 52ms/step - loss: 0.1096 - binary_accuracy: 0.9676 - val_loss: 0.3331 - val_binary_accuracy: 0.8731\n",
            "Epoch 9/20\n",
            "30/30 [==============================] - 2s 66ms/step - loss: 0.0969 - binary_accuracy: 0.9721 - val_loss: 0.3448 - val_binary_accuracy: 0.8773\n",
            "Epoch 10/20\n",
            "30/30 [==============================] - 1s 40ms/step - loss: 0.0845 - binary_accuracy: 0.9754 - val_loss: 0.3328 - val_binary_accuracy: 0.8785\n",
            "Epoch 11/20\n",
            "30/30 [==============================] - 1s 37ms/step - loss: 0.0714 - binary_accuracy: 0.9811 - val_loss: 0.3571 - val_binary_accuracy: 0.8738\n",
            "Epoch 12/20\n",
            "30/30 [==============================] - 1s 39ms/step - loss: 0.0620 - binary_accuracy: 0.9845 - val_loss: 0.3769 - val_binary_accuracy: 0.8725\n",
            "Epoch 13/20\n",
            "30/30 [==============================] - 1s 36ms/step - loss: 0.0544 - binary_accuracy: 0.9869 - val_loss: 0.3857 - val_binary_accuracy: 0.8782\n",
            "Epoch 14/20\n",
            "30/30 [==============================] - 1s 39ms/step - loss: 0.0434 - binary_accuracy: 0.9919 - val_loss: 0.4061 - val_binary_accuracy: 0.8731\n",
            "Epoch 15/20\n",
            "30/30 [==============================] - 1s 38ms/step - loss: 0.0406 - binary_accuracy: 0.9915 - val_loss: 0.4361 - val_binary_accuracy: 0.8765\n",
            "Epoch 16/20\n",
            "30/30 [==============================] - 1s 39ms/step - loss: 0.0340 - binary_accuracy: 0.9933 - val_loss: 0.4476 - val_binary_accuracy: 0.8710\n",
            "Epoch 17/20\n",
            "30/30 [==============================] - 1s 40ms/step - loss: 0.0285 - binary_accuracy: 0.9955 - val_loss: 0.4748 - val_binary_accuracy: 0.8750\n",
            "Epoch 18/20\n",
            "30/30 [==============================] - 1s 44ms/step - loss: 0.0243 - binary_accuracy: 0.9975 - val_loss: 0.4893 - val_binary_accuracy: 0.8714\n",
            "Epoch 19/20\n",
            "30/30 [==============================] - 2s 60ms/step - loss: 0.0199 - binary_accuracy: 0.9981 - val_loss: 0.5123 - val_binary_accuracy: 0.8714\n",
            "Epoch 20/20\n",
            "30/30 [==============================] - 1s 46ms/step - loss: 0.0179 - binary_accuracy: 0.9974 - val_loss: 0.5928 - val_binary_accuracy: 0.8666\n"
          ]
        }
      ],
      "source": [
        "history = model.fit(partial_X_train, partial_y_train, epochs=20, batch_size=512, verbose =1, validation_data=(X_val, y_val))"
      ]
    },
    {
      "cell_type": "code",
      "execution_count": 12,
      "metadata": {
        "colab": {
          "base_uri": "https://localhost:8080/"
        },
        "id": "_VuqctZSr3Jj",
        "outputId": "4e21bbaa-ffb7-4bb1-c968-89fe1def3527"
      },
      "outputs": [
        {
          "output_type": "execute_result",
          "data": {
            "text/plain": [
              "dict_keys(['loss', 'binary_accuracy', 'val_loss', 'val_binary_accuracy'])"
            ]
          },
          "metadata": {},
          "execution_count": 12
        }
      ],
      "source": [
        "history_dict = history.history\n",
        "history_dict.keys()"
      ]
    },
    {
      "cell_type": "code",
      "execution_count": 13,
      "metadata": {
        "id": "vHDaBlWutEM7"
      },
      "outputs": [],
      "source": [
        "import matplotlib.pyplot as plt\n",
        "%matplotlib inline"
      ]
    },
    {
      "cell_type": "code",
      "execution_count": 14,
      "metadata": {
        "colab": {
          "base_uri": "https://localhost:8080/",
          "height": 472
        },
        "id": "LYMyzp6qtF9p",
        "outputId": "2a28f0c6-2e41-4331-90c3-126d9011899a"
      },
      "outputs": [
        {
          "output_type": "display_data",
          "data": {
            "text/plain": [
              "<Figure size 640x480 with 1 Axes>"
            ],
            "image/png": "[encoded data removed]"
          },
          "metadata": {}
        }
      ],
      "source": [
        "# Plotting losses\n",
        "loss_values = history_dict['loss']\n",
        "val_loss_values = history_dict['val_loss']\n",
        "epochs = range(1, len(loss_values) + 1)\n",
        "plt.plot(epochs, loss_values, 'bo', label=\"Training Loss\")\n",
        "plt.plot(epochs, val_loss_values, 'b', label=\"Validation Loss\")\n",
        "plt.title('Training and Validation Loss')\n",
        "plt.xlabel('Epochs')\n",
        "plt.ylabel('Loss Value')\n",
        "plt.legend()\n",
        "plt.show()"
      ]
    },
    {
      "cell_type": "code",
      "execution_count": 15,
      "metadata": {
        "colab": {
          "base_uri": "https://localhost:8080/",
          "height": 472
        },
        "id": "j2Jx-KBptIgo",
        "outputId": "0c530f96-c54a-4ab9-d2ee-f5d1a84156bc"
      },
      "outputs": [
        {
          "output_type": "display_data",
          "data": {
            "text/plain": [
              "<Figure size 640x480 with 1 Axes>"
            ],
            "image/png": "[encoded data removed]"
          },
          "metadata": {}
        }
      ],
      "source": [
        "# Training and Validation Accuracy\n",
        "acc_values = history_dict['binary_accuracy']\n",
        "val_acc_values = history_dict['val_binary_accuracy']\n",
        "epochs = range(1, len(loss_values) + 1)\n",
        "plt.plot(epochs, acc_values, 'ro', label=\"Training Accuracy\")\n",
        "plt.plot(epochs, val_acc_values, 'r', label=\"Validation Accuracy\")\n",
        "plt.title('Training and Validation Accuraccy')\n",
        "plt.xlabel('Epochs')\n",
        "plt.ylabel('Accuracy')\n",
        "plt.legend()\n",
        "plt.show()"
      ]
    },
    {
      "cell_type": "code",
      "execution_count": 16,
      "metadata": {
        "colab": {
          "base_uri": "https://localhost:8080/"
        },
        "id": "F_vTc47atMl7",
        "outputId": "a91feded-eebd-4eed-c71f-12a6833f7ee5"
      },
      "outputs": [
        {
          "output_type": "stream",
          "name": "stdout",
          "text": [
            "Epoch 1/3\n",
            "30/30 [==============================] - 2s 56ms/step - loss: 0.0167 - binary_accuracy: 0.9972 - val_loss: 0.5594 - val_binary_accuracy: 0.8715\n",
            "Epoch 2/3\n",
            "30/30 [==============================] - 1s 38ms/step - loss: 0.0099 - binary_accuracy: 0.9997 - val_loss: 0.6317 - val_binary_accuracy: 0.8569\n",
            "Epoch 3/3\n",
            "30/30 [==============================] - 1s 37ms/step - loss: 0.0131 - binary_accuracy: 0.9981 - val_loss: 0.6003 - val_binary_accuracy: 0.8701\n"
          ]
        },
        {
          "output_type": "execute_result",
          "data": {
            "text/plain": [
              "<keras.callbacks.History at 0x7f48ef1e6cb0>"
            ]
          },
          "metadata": {},
          "execution_count": 16
        }
      ],
      "source": [
        "model.fit(partial_X_train, partial_y_train, epochs=3, batch_size=512, validation_data=(X_val, y_val))"
      ]
    },
    {
      "cell_type": "code",
      "execution_count": 17,
      "metadata": {
        "id": "GeB7fidLuq-Q",
        "colab": {
          "base_uri": "https://localhost:8080/"
        },
        "outputId": "09a0161a-9689-455d-cb93-6bee89cf51f2"
      },
      "outputs": [
        {
          "output_type": "stream",
          "name": "stdout",
          "text": [
            "782/782 [==============================] - 2s 2ms/step\n"
          ]
        }
      ],
      "source": [
        "# Making Predictions for testing data\n",
        "np.set_printoptions(suppress=True)\n",
        "result = model.predict(X_test)"
      ]
    },
    {
      "cell_type": "code",
      "execution_count": 18,
      "metadata": {
        "colab": {
          "base_uri": "https://localhost:8080/"
        },
        "id": "qSilNeIyutAT",
        "outputId": "ab9251d3-b5be-43d8-f650-c58c220a06ae"
      },
      "outputs": [
        {
          "output_type": "execute_result",
          "data": {
            "text/plain": [
              "array([[0.01341588],\n",
              "       [0.99999994],\n",
              "       [0.5326213 ],\n",
              "       ...,\n",
              "       [0.0019358 ],\n",
              "       [0.00925661],\n",
              "       [0.9700745 ]], dtype=float32)"
            ]
          },
          "metadata": {},
          "execution_count": 18
        }
      ],
      "source": [
        "result"
      ]
    },
    {
      "cell_type": "code",
      "execution_count": 19,
      "metadata": {
        "id": "3y12vW70uvbw"
      },
      "outputs": [],
      "source": [
        "y_pred = np.zeros(len(result))\n",
        "for i, score in enumerate(result):\n",
        "    y_pred[i] = 1 if score > 0.5 else 0"
      ]
    },
    {
      "cell_type": "code",
      "execution_count": 20,
      "metadata": {
        "id": "DIq3UTxTu1Hl"
      },
      "outputs": [],
      "source": [
        "from sklearn.metrics import mean_absolute_error\n",
        "mae = mean_absolute_error(y_pred, y_test)"
      ]
    },
    {
      "cell_type": "code",
      "execution_count": 21,
      "metadata": {
        "colab": {
          "base_uri": "https://localhost:8080/"
        },
        "id": "76NAqD4Mu2zp",
        "outputId": "d15a84ef-68a3-4a0d-c34d-d21f3ddf8280"
      },
      "outputs": [
        {
          "output_type": "execute_result",
          "data": {
            "text/plain": [
              "0.14352"
            ]
          },
          "metadata": {},
          "execution_count": 21
        }
      ],
      "source": [
        "# error\n",
        "mae"
      ]
    },
    {
      "cell_type": "code",
      "execution_count": 21,
      "metadata": {
        "id": "CWNekLyThF0D"
      },
      "outputs": [],
      "source": []
    }
  ],
  "metadata": {
    "colab": {
      "provenance": []
    },
    "kernelspec": {
      "display_name": "Python 3",
      "language": "python",
      "name": "python3"
    },
    "language_info": {
      "codemirror_mode": {
        "name": "ipython",
        "version": 3
      },
      "file_extension": ".py",
      "mimetype": "text/x-python",
      "name": "python",
      "nbconvert_exporter": "python",
      "pygments_lexer": "ipython3",
      "version": "3.8.8"
    }
  },
  "nbformat": 4,
  "nbformat_minor": 0
}